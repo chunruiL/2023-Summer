{
 "cells": [
  {
   "cell_type": "code",
   "execution_count": 37,
   "id": "4ecb2ec0",
   "metadata": {},
   "outputs": [],
   "source": [
    "import numpy as np\n",
    "from gurobipy import *\n",
    "import matplotlib.pyplot as pltb"
   ]
  },
  {
   "cell_type": "markdown",
   "id": "5e8c3829",
   "metadata": {},
   "source": [
    "## Bayes Selector:\n",
    "\n",
    "- constant regret for online packing\n",
    "- arrival assumptions: stochatic input (arrival process), finite type, deterministic reward.\n",
    "\n"
   ]
  },
  {
   "cell_type": "markdown",
   "id": "79dd6da4",
   "metadata": {},
   "source": [
    "### Compensated Coupling"
   ]
  },
  {
   "cell_type": "markdown",
   "id": "e8cbbd51",
   "metadata": {},
   "source": [
    "First, off line Bellman euqation for offline value fucntion:"
   ]
  },
  {
   "cell_type": "markdown",
   "id": "ab6c07f2",
   "metadata": {},
   "source": [
    "$V^{\\mathrm{off}}(t, s)[\\omega]:=\\max _{a \\in \\mathcal{A}}\\left\\{\\mathcal{R}\\left(a, s, J^t\\right)+V^{\\mathrm{off}}\\left(t-1, \\mathcal{T}\\left(a, s, J^t\\right)\\right)[\\omega]\\right\\}$"
   ]
  },
  {
   "cell_type": "markdown",
   "id": "43336006",
   "metadata": {},
   "source": [
    "Given and online policy and its corresponding stochastic state $\\pi^{on} \\, \\text{and}    \\, S^{t} .$ If offline is not satisfied with $a=\\pi^{\\mathrm{on}}(t, s, j)$"
   ]
  },
  {
   "cell_type": "markdown",
   "id": "4aa4a533",
   "metadata": {},
   "source": [
    "$\n",
    "V^{\\text {off }}(t, s)[\\omega]>\\mathcal{R}\\left(a, s, J^{t}\\right)+V^{\\text {off }}\\left(t-1, \\mathcal{T}\\left(a, s, J^{t}\\right)\\right)[\\omega] .$"
   ]
  },
  {
   "cell_type": "markdown",
   "id": "9f1139bc",
   "metadata": {},
   "source": [
    "Let $\n",
    "\\partial R(t, a, s):=V^{\\mathrm{off}}(t, s)-\\left[V^{\\mathrm{off}}\\left(t-1, \\mathcal{T}\\left(a, s, J^t\\right)\\right)+\\mathcal{R}\\left(a, s, J^t\\right)\\right]\n",
    "$ represents the difference and this will be how much we want to compensate."
   ]
  },
  {
   "cell_type": "markdown",
   "id": "468ab0d9",
   "metadata": {},
   "source": [
    "Define the disagreement set as the actions that makes offline policy \"unsatisfied\" by losing optimality:"
   ]
  },
  {
   "cell_type": "markdown",
   "id": "2aa03311",
   "metadata": {},
   "source": [
    "$Q(t, a, s):=\\left\\{\\omega \\in \\Omega: V^{\\text {off }}(t, s)[\\omega]>\\mathcal{R}\\left(a, s, J^t\\right)+V^{\\text {off }}\\left(t-1, \\mathcal{T}\\left(a, s, J^t\\right)\\right)[\\omega]\\right\\}$"
   ]
  },
  {
   "cell_type": "markdown",
   "id": "c0f63f18",
   "metadata": {},
   "source": [
    "Lemma 1 (Compensated Coupling). For any online decision-making problem, fix any ONLINE policy $\\pi^{\\text {on }}$ with resulting state process $S^t$. Then, we have\n",
    "$$\n",
    "\\operatorname{REG}[\\omega]=\\sum_{t \\in[T]} \\partial R\\left(t, \\pi^{\\mathrm{on}}\\left(t, S^t, \\theta^t\\right), S^t\\right)[\\omega] \\cdot \\mathbb{1}_{Q\\left(t, S^t\\right)}[\\omega],\n",
    "$$\n",
    "and thus, $\\mathbb{E}[\\mathrm{REG}] \\leq \\max _{a \\in \\mathcal{A}, j \\in}\\{\\partial r(a, j)\\} \\cdot \\sum_{t \\in[T]} \\mathbb{E}[\\mathbb{P}[Q \\times$ $\\left.\\left.\\left(t, S^t\\right) \\mid S^t\\right]\\right]$.\n",
    "\n",
    "Proof. We stress that, throughout, $S^t$ denotes ONLINE's state. We claim that, for every time $t$,\n",
    "$$\n",
    "\\begin{aligned}\n",
    "V^{\\text {off }}\\left(t, S^t\\right)[\\omega]-V^{\\text {off }}\\left(t-1, S^{t-1}\\right)[\\omega] \\\\\n",
    "=R^{\\text {on }}\\left(t, S^t\\right)[\\omega]+\\partial R\\left(t, \\pi^{\\text {on }}\\left(t, S^t, \\theta^t\\right), S^t\\right)[\\omega] \\\\\n",
    "\\quad \\cdot \\mathbb{1}_{Q\\left(t, S^t\\right)}[\\omega] .\n",
    "\\end{aligned}\n",
    "$$"
   ]
  },
  {
   "cell_type": "markdown",
   "id": "0f188470",
   "metadata": {},
   "source": [
    "To see this, let $a=\\pi^{\\mathrm{on}}\\left(t, S^t, \\theta^t\\right)$. If OfF-LINE is satisfied taking action $a$ in state $S^t$, then $V^{\\text {off }}\\left(t, S^t\\right)[\\omega]-$ $V^{\\text {off }}\\left(t-1, S^{t-1}\\right)[\\omega]=R^{\\text {on }}\\left(t, S^t\\right)[\\omega]$. On the other hand, if OfF-LINE is not satisfied taking action $a$, then, by the definition of marginal compensation (Definition 3), we have $V^{\\mathrm{off}}\\left(t, S^t\\right)[\\omega]-V^{\\mathrm{off}}\\left(t-1, \\mathscr{T}\\left(a, S^t, \\theta^t\\right)\\right)[\\omega]=\\partial R\\left(t, a, S^t\\right)[\\omega]+$ $\\mathscr{R}\\left(a, S^t, \\theta^t\\right)$. Because, by definition, $\\mathscr{T}\\left(a, S^t, \\theta^t\\right)=S^{t-1}$ and $\\mathscr{R}\\left(a, S^t, \\theta^t\\right)=R^{\\mathrm{on}}\\left(t, S^t\\right)$, we obtain Equation (3). Finally, our first result follows by telescoping the summands and the second by linearity of expectation.\n",
    "We list a series of remarks.\n",
    "- Lemma 1 is a sample path property that makes no reference to the arrival process. Though we use it primarily for analyzing MDPs, it can also be used for adversarial settings. We do not further explore this but believe it is a promising avenue.\n",
    "- For stochastic arrivals, the regret depends on $\\mathbb{E}\\left[\\sum_{t \\in[T]} \\mathbb{P}\\left[Q\\left(t, S^t\\right)\\right]\\right] ;$ it follows that, if the disagreement probabilities are summable over all $t$, then the expected regret is constant. In Sections 4 and 5, we show how to bound $\\mathbb{P}\\left[Q\\left(t, S^t\\right)\\right]$ for different problems.\n",
    "- The first part of Lemma 1 provides a distributional characterization of the regret in terms of a weighted sum of Bernoulli variables. This allows us to get high-probability bounds in Section 4.5.\n",
    "- Lemma 1 gives a tractable way of bounding the regret that does not require either reasoning about the past decisions of ONLINE or the complicated process OFF-LINE may follow. In particular, it suffices to bound $\\mathbb{P}\\left[Q\\left(t, S^t\\right)\\right]$, that is, the probability that, given state $S^t$ at time $t$, OfF-LINE loses optimality in trying to follow ONLINE.\n",
    "- As mentioned before, Lemma 1 extends to the full generality of MDPs. Indeed, from Van Hentenryck and Bent (2009, chapter 11), it follows that any MDP with random transitions and random rewards can be simulated by the family of MDPs we study here; because the inputs $\\theta^t$ are allowed to be random, we can define random transitions and rewards based on $\\theta^t$, see Van Hentenryck and Bent (2009) for further details."
   ]
  },
  {
   "cell_type": "markdown",
   "id": "74c0b532",
   "metadata": {},
   "source": [
    "To see this, let $a=\\pi^{\\mathrm{on}}\\left(t, S^t, \\theta^t\\right)$. If OfF-LINE is satisfied taking action $a$ in state $S^t$, then $V^{\\text {off }}\\left(t, S^t\\right)[\\omega]-$ $V^{\\text {off }}\\left(t-1, S^{t-1}\\right)[\\omega]=R^{\\text {on }}\\left(t, S^t\\right)[\\omega]$. On the other hand, if OfF-LINE is not satisfied taking action $a$, then, by the definition of marginal compensation (Definition 3), we have $V^{\\mathrm{off}}\\left(t, S^t\\right)[\\omega]-V^{\\mathrm{off}}\\left(t-1, \\mathscr{T}\\left(a, S^t, \\theta^t\\right)\\right)[\\omega]=\\partial R\\left(t, a, S^t\\right)[\\omega]+$ $\\mathscr{R}\\left(a, S^t, \\theta^t\\right)$. Because, by definition, $\\mathscr{T}\\left(a, S^t, \\theta^t\\right)=S^{t-1}$ and $\\mathscr{R}\\left(a, S^t, \\theta^t\\right)=R^{\\mathrm{on}}\\left(t, S^t\\right)$, we obtain Equation (3). Finally, our first result follows by telescoping the summands and the second by linearity of expectation.\n",
    "We list a series of remarks.\n",
    "- Lemma 1 is a sample path property that makes no reference to the arrival process. Though we use it primarily for analyzing MDPs, it can also be used for adversarial settings. We do not further explore this but believe it is a promising avenue.\n",
    "- For stochastic arrivals, the regret depends on $\\mathbb{E}\\left[\\sum_{t \\in[T]} \\mathbb{P}\\left[Q\\left(t, S^t\\right)\\right]\\right] ;$ it follows that, if the disagreement probabilities are summable over all $t$, then the expected regret is constant. In Sections 4 and 5, we show how to bound $\\mathbb{P}\\left[Q\\left(t, S^t\\right)\\right]$ for different problems.\n",
    "- The first part of Lemma 1 provides a distributional characterization of the regret in terms of a weighted sum of Bernoulli variables. This allows us to get high-probability bounds in Section 4.5.\n",
    "- Lemma 1 gives a tractable way of bounding the regret that does not require either reasoning about the past decisions of ONLINE or the complicated process OFF-LINE may follow. In particular, it suffices to bound $\\mathbb{P}\\left[Q\\left(t, S^t\\right)\\right]$, that is, the probability that, given state $S^t$ at time $t$, OfF-LINE loses optimality in trying to follow ONLINE.\n",
    "- As mentioned before, Lemma 1 extends to the full generality of MDPs. Indeed, from Van Hentenryck and Bent (2009, chapter 11), it follows that any MDP with random transitions and random rewards can be simulated by the family of MDPs we study here; because the inputs $\\theta^t$ are allowed to be random, we can define random transitions and rewards based on $\\theta^t$, see Van Hentenryck and Bent (2009) for further details."
   ]
  },
  {
   "cell_type": "markdown",
   "id": "b4a93bd2",
   "metadata": {},
   "source": [
    "Lemma:\n",
    "$\n",
    "\\mathbb{E}[\\text { Regret }] \\leq \\bar{r} \\mathbb{E}\\left[\\sum_{t} \\mathbb{P}\\left[Q\\left(t, S^{t}, A^{t}\\right)\\right]\\right]\n",
    "$"
   ]
  },
  {
   "cell_type": "markdown",
   "id": "95de40d9",
   "metadata": {},
   "source": [
    "### Policy from Compensated Coupling:\n",
    "$\n",
    "A_{\\mathrm{BS}}^{t} \\in \\operatorname{argmin}\\left\\{\\mathbb{P}\\left[Q\\left(t, S_{\\mathrm{BS}}^{t}, a\\right)\\right]: a \\in \\mathcal{A}\\right\\} .\n",
    "$"
   ]
  },
  {
   "cell_type": "markdown",
   "id": "c3aaec9d",
   "metadata": {},
   "source": [
    "Notice that disagreement probability could only be estimated.To achieve an upper bound, we need an overestimator $\\hat q(t,s,a)$"
   ]
  },
  {
   "cell_type": "markdown",
   "id": "b426066d",
   "metadata": {},
   "source": [
    "Theorem :\n",
    "$\\mathbb{E}[\\text { Regret }] \\leq \\bar{r} \\mathbb{E}\\left[\\sum_{t} \\hat{q}\\left(t, S_{B S}^{t}, A_{B S}^{t}\\right)\\right] $"
   ]
  },
  {
   "cell_type": "markdown",
   "id": "f52a5943",
   "metadata": {},
   "source": [
    "#### Apply the meta algorithm in online packing:\n",
    "    "
   ]
  },
  {
   "cell_type": "markdown",
   "id": "00db8ce7",
   "metadata": {},
   "source": [
    "Offline Benchmark:\n",
    "- hindsight optimization\n",
    "- returned reward as a benchmark for any online policy.\\\n",
    "$ X^\\star \\max \\left\\{r^{\\prime} x: A x \\leq B^{t}, 0 \\leq x \\leq Z(t)\\right\\}$"
   ]
  },
  {
   "cell_type": "markdown",
   "id": "c2028039",
   "metadata": {},
   "source": [
    "Fluid relxation:\n",
    "- expected value certainty equivalence\n",
    "- fraction number allowed\n",
    "\n",
    "Let $X$ solve $\\max \\left\\{r^{\\prime} x: A x \\leq B^{t}, 0 \\leq x \\leq \\mathbb{E}[Z(t)]\\right\\}$"
   ]
  },
  {
   "cell_type": "markdown",
   "id": "64869b65",
   "metadata": {},
   "source": [
    "__Input__: Access to solutions $X^{t}$ of $\\left(P_{t}\\right)$ and resource matrix $A$.\n",
    "\n",
    "**Output**: Sequence of decisions for ONLINE.\n",
    "\n",
    "- $ X_{j} / \\mathbb{E}\\left[Z_{j}(t)\\right] \\in[0,1] $ for all $ j $.\n",
    "\n",
    "-  Accept $ j $ iff $X_{j} / \\mathbb{E}\\left[Z_{j}(t)\\right] \\geq 1 / 2$. "
   ]
  },
  {
   "cell_type": "markdown",
   "id": "d8d0b623",
   "metadata": {},
   "source": [
    "Intuition: we front-load (accept as early as possible) classes classes $j$ such that $X_{j}^{t} \\geq \\mathbb{E}\\left[Z_{j}(t)\\right] / 2$ and back-load the rest (delay as much as possible).  "
   ]
  },
  {
   "cell_type": "markdown",
   "id": "8b83b550",
   "metadata": {},
   "source": [
    "#### Regret Guarantee in Multisecretary Case"
   ]
  },
  {
   "cell_type": "markdown",
   "id": "81e30579",
   "metadata": {},
   "source": [
    "Theorem: the expected regret of the fluid Bayes selector for the multisecretary problem with multinomial arrivals is at most $r_{\\max } \\sum_{j>1} 2 / p_{j} \\leq 2(n-1) r_{\\max } / p_{\\min }$"
   ]
  },
  {
   "cell_type": "markdown",
   "id": "4d6f8a4b",
   "metadata": {},
   "source": [
    "1. Incorrect rejection: if $X_{j}^{t}<\\frac{\\mathbb{E}\\left[Z_{j}(t)\\right]}{2}$ and $X_{j}^{\\star t}>Z_{j}(t)-1$.\n",
    "\n",
    "2. Incorrect acceptance: if $X_{j}^{t} \\geq \\frac{\\mathbb{E}\\left[Z_{j}(t)\\right]}{2}$ and $X_{j}^{\\star t}<1$."
   ]
  },
  {
   "cell_type": "markdown",
   "id": "88018c06",
   "metadata": {},
   "source": [
    "###### Proof (informal)"
   ]
  },
  {
   "cell_type": "markdown",
   "id": "8b30d726",
   "metadata": {},
   "source": [
    "Let's first Consider a more intuitive interpretation of hindsight model and the fluid relxation model. Without loss of gerneratlity, sort rewards $r_{1} \\geq r_{2} \\geq \\ldots \\geq r_{n}$. \n",
    "<br>\n",
    "The optimal solution to $ X^\\star \\max \\left\\{r^{\\prime} x: A x \\leq B^{t}, 0 \\leq x \\leq Z(t)\\right\\}$ \n",
    "The optimal solution to $\\max \\left\\{r^{\\prime} x: A x \\leq B^{t}, 0 \\leq x \\leq tP \\right\\}$ is to pick as long as $\\sum_{i \\leq j} t p_{i} \\leq B^{t}$ for some $j$, where fraction number is allowed"
   ]
  },
  {
   "cell_type": "markdown",
   "id": "1399980a",
   "metadata": {},
   "source": [
    "$\\bar{p}_{j}:=\\sum_{i \\leq j} p_{i}$. Accept iff $t \\bar{p}_{j} \\leq B^{t}$\n",
    "<br>\n",
    "Algorithm: \n",
    "- arrives, accept if $B^{t} / t \\geq \\bar{p}_{j}-$ $p_{j} / 2$\n",
    "- reject if $B^{t} / t<\\bar{p}_{j}-p_{j} / 2$."
   ]
  },
  {
   "cell_type": "markdown",
   "id": "a97e7642",
   "metadata": {},
   "source": [
    "##### Rejection with disagreement probability $q_{j}\\left(t, B^{t}\\right)$. \n",
    " \n",
    " - rejection condition$j>1$ and $B^{t} / t<\\bar{p}_{j}-p_{j} / 2$. \n",
    " - unsatisfied condition $X_{j}^{\\star t}=Z_{j}(t)$. \n",
    " \n",
    "$j^{\\prime} \\leq j$ are accepted already, so $X_{j^{\\prime}}^{\\star t}=Z(t)_{j^{\\prime}}$ for all $j^{\\prime} \\leq j$. $\\sum_{j^{\\prime} \\leq j} Z(t)_{j^{\\prime}} \\leq B^{t}$. \n",
    "- $\\sum_{j^{\\prime} \\leq j} Z(t)_{j^{\\prime}} \\sim \\operatorname{Bin}\\left(t, \\bar{p}_{j}\\right)$. Substitute $B^{t} / t<\\bar{p}_{j}-p_{j} / 2$, the probability of error is\n",
    "\n",
    "$$\n",
    "\\begin{aligned}\n",
    "q_{j}\\left(t, B^{t}\\right) & \\leq \\mathbb{P}\\left[\\sum_{j^{\\prime} \\leq j} Z(t)_{j^{\\prime}} \\leq B^{t}\\right]=\\mathbb{P}\\left[\\operatorname{Bin}\\left(t, \\bar{p}_{j}\\right) \\leq B^{t}\\right] \\\\\n",
    "& \\leq \\mathbb{P}\\left[\\operatorname{Bin}\\left(t, \\bar{p}_{j}\\right) \\leq t \\bar{p}_{j}-t p_{j} / 2\\right] .\n",
    "\\end{aligned}\n",
    "$$\n",
    "\n",
    "it follows from chenoff bound that $q_{j}\\left(t, B^{t}\\right) \\leq e^{-p_{j}^{2} t / 2}$.\n",
    "\n",
    "##### Rejection with disagreement probability  $q_{j}\\left(t, B^{t}\\right)$. \n",
    " \n",
    "$$\n",
    "\\begin{aligned}\n",
    "q_{j}\\left(t, B^{t}\\right) & \\leq \\mathbb{P}\\left[\\sum_{j^{\\prime}<j} Z(t)_{j^{\\prime}} \\geq B^{t}\\right]=\\mathbb{P}\\left[\\operatorname{Bin}\\left(t, \\bar{p}_{j-1}\\right) \\geq B^{t}\\right] \\\\\n",
    "& \\leq \\mathbb{P}\\left[\\operatorname{Bin}\\left(t, \\bar{p}_{j-1}\\right) \\geq t \\bar{p}_{j-1}+t p_{j} / 2\\right] .\n",
    "\\end{aligned}\n",
    "$$\n"
   ]
  },
  {
   "cell_type": "markdown",
   "id": "df197ace",
   "metadata": {},
   "source": [
    "Chernoff bound for Binomial\n",
    "\n",
    "$$\n",
    "\\begin{aligned}\n",
    "\\mathbb{P}[X-\\mathbb{E}[X] \\leq-t \\varepsilon] & \\leq e^{-2 \\varepsilon^{2} t}, \\\\\n",
    "\\mathbb{P}[X-\\mathbb{E}[X] \\geq t \\varepsilon] & \\leq e^{-2 \\varepsilon^{2} t} .\n",
    "\\end{aligned}\n",
    "$$"
   ]
  },
  {
   "cell_type": "markdown",
   "id": "4cfd0a2b",
   "metadata": {},
   "source": [
    "Chenoff Lowkey insight：\\\n",
    "Moment Genrating Function：https://www.youtube.com/watch?v=wjwLTNYOuI4\n"
   ]
  },
  {
   "cell_type": "markdown",
   "id": "063c6eec",
   "metadata": {},
   "source": [
    "With the previously mentioned Lemma for regret bounded by maximum reward we get $ r_{\\max } \\sum_{j>1} 2 / p_{j} \\leq 2(n-1) r_{\\max } / p_{\\min } $"
   ]
  },
  {
   "cell_type": "markdown",
   "id": "26446d0a",
   "metadata": {},
   "source": []
  },
  {
   "cell_type": "markdown",
   "id": "738e58a1",
   "metadata": {},
   "source": [
    "### Code"
   ]
  },
  {
   "cell_type": "code",
   "execution_count": 2,
   "id": "2361ace8",
   "metadata": {},
   "outputs": [],
   "source": [
    "\n",
    "\"\"\"\n",
    "Run offline problem  \n",
    "hindsight benchmark\n",
    "\"\"\"\n",
    "\n",
    "# model creation\n",
    "def create_model_packing(A,r,types,resources,B,Z):\n",
    "    mod = Model(\"LP\")\n",
    "    mod.setParam('OutputFlag', False ) #No output message\n",
    "    x = mod.addVars(types,name=\"x\")\n",
    "    mod.setObjective(sum(r[j]*x[j] for j in types),GRB.MAXIMIZE)\n",
    "    bud_const = mod.addConstrs((quicksum(A[i,j]*x[j] for j in types) <= B[i] for i in resources))\n",
    "    dem_const = mod.addConstrs((x[j] <= Z[j] for j in types))\n",
    "\n",
    "    return mod,x,bud_const,dem_const\n",
    "\n",
    "def sample_arrival(T,types,p,n_samples):\n",
    "    J = np.random.choice(types,(T+1,n_samples), p=p)\t\t\t#Types of arrivals\n",
    "    return J\n",
    "\n",
    "def offline_packing(T,B,A,types,resources,p,r,J,n_samples):\n",
    "    reward = np.zeros(n_samples)\n",
    "\n",
    "    #Set up the LP\t\n",
    "    mod,x,bud_const,dem_const = create_model_packing(A,r,types,resources,B,T*p)\n",
    "\n",
    "    for s in range(0,n_samples):\n",
    "        Z = []\n",
    "        for j in types:\n",
    "            Z.append(np.count_nonzero(J[1:,s]==j))\t\t#Time t=0 doesn't count, so we start from index 1\n",
    "        #Update LP and optimize\n",
    "        mod.setAttr(\"RHS\", dem_const, Z)\n",
    "        mod.optimize()\n",
    "        reward[s] = mod.ObjVal\n",
    "\n",
    "    return reward\n",
    "\n"
   ]
  },
  {
   "cell_type": "markdown",
   "id": "275b5794",
   "metadata": {},
   "source": [
    "Static Model\n",
    "- Deterministic Linear Programmng\n",
    "- Expected value T*p as the rhs of demand constraint\n",
    "- Randomization used to \"capture\" the online policy? "
   ]
  },
  {
   "cell_type": "code",
   "execution_count": 5,
   "id": "f797b0b0",
   "metadata": {},
   "outputs": [],
   "source": [
    "Reoptimization Model\n",
    "- reoptimize at each t with updated Bt(Budget at time)\"\"\"\n",
    "Run Static randomized allocation\n",
    "\"\"\"\n",
    "def static_randomize(T,B,A,types,resources,p,r,J,n_samples):\n",
    "    \n",
    "    reward = np.zeros(n_samples)\n",
    "\n",
    "    #Set up the LP\t\n",
    "    mod,x,bud_const,dem_const = create_model_packing(A,r,types,resources,B,T*p)\n",
    "    mod.optimize()\n",
    "    p_accept = [1.0*x[j].X/(T*p[j]) for j in types]\n",
    "\n",
    "    for s in range(0,n_samples):\n",
    "        Bt = np.copy(B) #Budget over time\n",
    "        for t in range(T,0,-1):\n",
    "            if all(Bt[i] < 1 for i in resources):\n",
    "                break\n",
    "\n",
    "            j = J[t,s]\n",
    "            if not all(Bt[i] >= A[i,j] for i in resources):\t#Not enough resources\n",
    "                continue\n",
    "\n",
    "            Unif = np.random.uniform()         #Draw algo randomization\n",
    "\n",
    "            if p_accept[j] >= Unif:            #Accept\n",
    "                reward[s] = reward[s] + r[j]\n",
    "                Bt = Bt - A[:,j]\n",
    "\n",
    "    return reward"
   ]
  },
  {
   "cell_type": "markdown",
   "id": "15efb469",
   "metadata": {},
   "source": [
    "Reoptimization Model\n",
    "- reoptimize at each t with updated Bt(Budget at time)"
   ]
  },
  {
   "cell_type": "code",
   "execution_count": 7,
   "id": "4d2e6a60",
   "metadata": {},
   "outputs": [],
   "source": [
    "def resolve_randomize(T,B,A,types,resources,p,r,J,n_samples):\n",
    "    reward = np.zeros(n_samples)\n",
    "\n",
    "    #Set up the LP\t\n",
    "    mod,x,bud_const,dem_const = create_model_packing(A,r,types,resources,B,T*p)\n",
    "\n",
    "    for s in range(0,n_samples):\n",
    "        Bt = np.copy(B)  #Budget over time\n",
    "        for t in range(T,0,-1):\t\t\n",
    "            if all(Bt[i] < 1 for i in resources):\n",
    "                break\n",
    "\n",
    "            j = J[t,s]\n",
    "            if not all(Bt[i] >= A[i,j] for i in resources):\t#Not enough resources\n",
    "                continue\n",
    "\n",
    "            mod.setAttr(\"RHS\", bud_const, Bt)\n",
    "            mod.setAttr(\"RHS\", dem_const, t*p)\n",
    "            mod.optimize()\t\t\t\n",
    "\n",
    "            Unif = np.random.uniform()\t\t\t\t\t\t#Draw algo randomization\n",
    "\n",
    "            if x[j].X/(t*p[j]) >= Unif:\t\t\t\t\t\t#Accept\n",
    "                reward[s] = reward[s] + r[j]\n",
    "                Bt = Bt - A[:,j]\n",
    "\n",
    "    return reward"
   ]
  },
  {
   "cell_type": "markdown",
   "id": "44b112e8",
   "metadata": {},
   "source": [
    "Reoptimization Model\n",
    "- reoptimize at each t with updated Bt(Budget at time)"
   ]
  },
  {
   "cell_type": "code",
   "execution_count": 4,
   "id": "64ccec2c",
   "metadata": {},
   "outputs": [],
   "source": [
    "def bayes_packing(T,B,A,types,resources,p,r,J,n_samples):\n",
    "    reward = np.zeros(n_samples)\n",
    "\n",
    "    #Set up the LP\t\n",
    "    mod,x,bud_const,dem_const = create_moChernoffdel_packing(A,r,types,resources,B,T*p)\t# fluid relaxation model\n",
    "\n",
    "    for s in range(0,n_samples):\n",
    "        Bt = np.copy(B) #Budget over time\n",
    "        for t in range(T,0,-1):\t\t\n",
    "            if all(Bt[i] < 1 for i in resources):\n",
    "                break\n",
    " \n",
    "            j = J[t,s]\n",
    "            if not all(Bt[i] >= A[i,j] for i in resources):\t\t#Not enough resources\n",
    "                continue\n",
    "\n",
    "            #Update LP and optimize\n",
    "            mod.setAttr(\"RHS\", bud_const, Bt)\n",
    "            mod.setAttr(\"RHS\", dem_const, t*p) \n",
    "            mod.optimize()\n",
    "\n",
    "            if x[j].X >= t*p[j]/2:\t\t\t\t\t\t\t\t#Accept\n",
    "                reward[s] = reward[s] + r[j]\n",
    "                Bt = Bt - A[:,j]Static Model\n",
    "- Deterministic Linear Programmng\n",
    "- Expected value T*p as the rhs of demand constraint\n",
    "- Randomization used to \"capture\" the online policy? \"\"\"\n",
    "Run Static randomized allocation\n",
    "\"\"\"\n",
    "def static_randomize(T,B,A,types,resources,p,r,J,n_samples):\n",
    "    \n",
    "    reward = np.zeros(n_samples)\n",
    "\n",
    "    #Set up the LP\t\n",
    "    mod,x,bud_const,dem_const = create_model_packing(A,r,types,resources,B,T*p)\n",
    "    mod.optimize()\n",
    "    p_accept = [1.0*x[j].X/(T*p[j]) for j in types]\n",
    "\n",
    "    for s in range(0,n_samples):\n",
    "        Bt = np.copy(B) #Budget over time\n",
    "        for t in range(T,0,-1):\n",
    "            if all(Bt[i] < 1 for i in resources):\n",
    "                break\n",
    "\n",
    "            j = J[t,s]\n",
    "            if not all(Bt[i] >= A[i,j] for i in resources):\t#Not enough resources\n",
    "                continue\n",
    "\n",
    "            Unif = np.random.uniform()         #Draw algo randomization\n",
    "\n",
    "            if p_accept[j] >= Unif:            #Accept\n",
    "                reward[s] = reward[s] + r[j]\n",
    "                Bt = Bt - A[:,j]\n",
    "\n",
    "    return rewardReoptimization Model\n",
    "- reoptimize at each t with updated Bt(Budget at time)def resolve_randomize(T,B,A,types,resources,p,r,J,n_samples):\n",
    "    reward = np.zeros(n_samples)\n",
    "\n",
    "    #Set up the LP\t\n",
    "    mod,x,bud_const,dem_const = create_model_packing(A,r,types,resources,B,T*p)\n",
    "\n",
    "    for s in range(0,n_samples):\n",
    "        Bt = np.copy(B)  #Budget over time\n",
    "        for t in range(T,0,-1):\t\t\n",
    "            if all(Bt[i] < 1 for i in resources):\n",
    "                break\n",
    "\n",
    "            j = J[t,s]\n",
    "            if not all(Bt[i] >= A[i,j] for i in resources):\t#Not enough resources\n",
    "                continue\n",
    "\n",
    "            mod.setAttr(\"RHS\", bud_const, Bt)\n",
    "            mod.setAttr(\"RHS\", dem_const, t*p)\n",
    "            mod.optimize()\t\t\t\n",
    "\n",
    "            Unif = np.random.uniform()\t\t\t\t\t\t#Draw algo randomization\n",
    "\n",
    "            if x[j].X/(t*p[j]) >= Unif:\t\t\t\t\t\t#Accept\n",
    "                reward[s] = reward[s] + r[j]\n",
    "                Bt = Bt - A[:,j]\n",
    "\n",
    "    return reward\n",
    "\n",
    "    return reward"
   ]
  },
  {
   "cell_type": "code",
   "execution_count": 67,
   "id": "8213fa85",
   "metadata": {},
   "outputs": [
    {
     "name": "stdout",
     "output_type": "stream",
     "text": [
      "[7995. 7868. 8000. 8000. 7980. 7988. 7995. 7864. 7820. 7932.]\n",
      "[7995. 7863. 7988. 8000. 7971. 7982. 7995. 7860. 7820. 7926.]\n",
      "[7995. 7868. 7992. 8000. 7966. 7982. 7985. 7864. 7820. 7895.]\n",
      "[7972. 7868. 7976. 7980. 7943. 7905. 7922. 7814. 7815. 7907.]\n"
     ]
    }
   ],
   "source": [
    "\n",
    "T = 2000\n",
    "B = np.array([400,400])\n",
    "A = np.array([[1,1,0,0,1,1],[0,0,1,1,1,1]])\n",
    "p = np.array([0.2,0.2,0.2,0.2,0.1,0.1])\n",
    "r = np.array([10,6,10,5,9,8])\n",
    "\n",
    "n_samples = 10\n",
    "\n",
    "#----- Input data ends -----\n",
    "\n",
    "d = len(A[:,0])\n",
    "n = len(A[0,:])\n",
    "resources = np.array(range(0,d))\n",
    "types = np.array(range(0,n))\n",
    "\n",
    "J = sample_arrival(T,types,p,10)\n",
    "\n",
    "r_offline = offline_packing(T,B,A,types,resources,p,r,J,n_samples)\n",
    "r_bayes = bayes_packing(T,B,A,types,resources,p,r,J,n_samples)\n",
    "r_irt = irt(T,B,A,types,resources,p,r,J,n_samples)\n",
    "r_rr = resolve_randomize(T,B,A,types,resources,p,r,J,n_samples)\n",
    "\n",
    "#r_bayes_delay = bayes_packing_delayed(T,B,A,types,resources,p,r,J,n_samples,5)\n",
    "\n"
   ]
  },
  {
   "cell_type": "code",
   "execution_count": 78,
   "id": "566cdc57",
   "metadata": {},
   "outputs": [],
   "source": [
    "initial_T = 200  # This is the original value of T you had\n",
    "initial_budget = 40  # This is the original value of one dimension of B\n",
    "\n",
    "scaling_factors = np.arange(1, 51)  # Scales from 1 to 20 (i.e., budget from 40 to 800, and T from 200 to 4000)\n",
    "\n",
    "regret_offline = {}\n",
    "regret_bayes = {}\n",
    "regret_irt = {}\n",
    "regret_rr = {}\n",
    "regret_sr = {}\n",
    "\n",
    "for factor in scaling_factors:\n",
    "    B = np.array([initial_budget * factor, initial_budget * factor])\n",
    "    scaled_T = initial_T * factor\n",
    "\n",
    "    J = sample_arrival(scaled_T, types, p, 10)  # Note the scaled_T being used here\n",
    "\n",
    "    # Calculate results for each algorithm\n",
    "    r_offline = offline_packing(scaled_T, B, A, types, resources, p, r, J, n_samples)\n",
    "    \n",
    "    r_bayes = bayes_packing(scaled_T, B, A, types, resources, p, r, J, n_samples)\n",
    "    r_irt = irt(scaled_T, B, A, types, resources, p, r, J, n_samples)\n",
    "    r_rr = resolve_randomize(scaled_T, B, A, types, resources, p, r, J, n_samples)\n",
    "    r_sr = static_randomize(scaled_T, B, A, types, resources, p, r, J, n_samples)\n",
    "    \n",
    "    # Calculate regrets\n",
    "    regret_offline[factor] = np.zeros(n_samples)  # Of \n",
    "    regret_bayes[factor] = r_offline - r_bayes\n",
    "    regret_irt[factor] = r_offline - r_irt\n",
    "    regret_rr[factor] = r_offline - r_rr\n",
    "    regret_sr[factor] = r_offline - r_sr\n"
   ]
  },
  {
   "cell_type": "code",
   "execution_count": 84,
   "id": "897f0454",
   "metadata": {},
   "outputs": [
    {
     "data": {
      "image/png": "[encoded data removed]",
      "text/plain": [
       "<Figure size 864x432 with 1 Axes>"
      ]
     },
     "metadata": {
      "needs_background": "light"
     },
     "output_type": "display_data"
    }
   ],
   "source": [
    "avg_regret_bayes = [np.mean(regret_bayes[factor]) for factor in scaling_factors]\n",
    "avg_regret_irt = [np.mean(regret_irt[factor]) for factor in scaling_factors]\n",
    "avg_regret_rr = [np.mean(regret_rr[factor]) for factor in scaling_factors]\n",
    "avg_regret_sr = [np.mean(regret_sr[factor]) for factor in scaling_factors]\n",
    "\n",
    "# Plotting\n",
    "plt.figure(figsize=(12, 6))\n",
    "\n",
    "plt.plot(scaling_factors * initial_budget, avg_regret_bayes, label=\"Bayes\", marker='o')  # x-axis shows budget values\n",
    "plt.plot(scaling_factors * initial_budget, avg_regret_sr, label=\"SR\", marker='o')\n",
    "plt.plot(scaling_factors * initial_budget, avg_regret_rr, label=\"RR\", marker='o')\n",
    "\n",
    "\n",
    "plt.xlabel('Budget')\n",
    "plt.ylabel('Average Regret w.r.t. Offline Optimal')\n",
    "plt.title('Algorithm Regret Scaling with Budget B and Time Horizon T')\n",
    "plt.legend()\n",
    "plt.grid(True, which='both', linestyle='--', linewidth=0.5)\n",
    "plt.tight_layout()\n",
    "plt.show()"
   ]
  },
  {
   "cell_type": "code",
   "execution_count": 49,
   "id": "3e01b51e",
   "metadata": {},
   "outputs": [],
   "source": []
  },
  {
   "cell_type": "markdown",
   "id": "5f241869",
   "metadata": {},
   "source": [
    "#### With Delay"
   ]
  },
  {
   "cell_type": "code",
   "execution_count": 83,
   "id": "22c9b483",
   "metadata": {},
   "outputs": [],
   "source": [
    "# Note: this implimentation is for multisecretary problem\n",
    "def bayes_packing_delayed(T,B,A,types,resources,p,r,J,n_samples, delay):\n",
    "    reward = np.zeros(n_samples)\n",
    "    cdf_p = []\n",
    "    for i in range(len(p)):\n",
    "        cdf_p.append(sum(p[0:i+1]))\t\t\t# define the cdf\n",
    "\n",
    "    J_reward = r[J]\n",
    "    mod,x,bud_const,dem_const = create_model_packing(A,r,types,resources,B,(delay+1)*p)\n",
    "    for s in range(n_samples):\n",
    "        Bt = np.copy(B)\n",
    "        for t in range(T-1, delay, -1):\n",
    "\n",
    "            current_j= J[t, s]\n",
    "            current_val = r[current_j]\n",
    "\n",
    "            indicate1 = [val > current_val for val in J_reward[t-delay:t+1, s]] \n",
    "            # note theses two lines. If change the starting index\n",
    "            indicate2 = [val == current_val for val in J_reward[t - delay:t+1, s]]\n",
    "            indicate = (1 - cdf_p[current_j] + p[current_j]/2) * (t - delay - 1) + sum(indicate1) + sum(indicate2)/2\n",
    "\n",
    "            if Bt[0] >= indicate:\n",
    "            # Accept\n",
    "                reward[s] = reward[s] + current_val\n",
    "                Bt[0] = Bt[0] - A[0,current_j]\n",
    "\n",
    "        # From K-1 to 1 is equivalent to an offline LP\n",
    "        arrival_rewards = [r[arrival] for arrival in J[t-delay+1: ,s]]\n",
    "        offline_current = offline(np.ndarray.tolist(r), Bt[0], arrival_rewards)\n",
    "        reward[s] = reward[s] + offline_current\n",
    "\n",
    "    return reward"
   ]
  },
  {
   "cell_type": "code",
   "execution_count": null,
   "id": "a0d4a6ac",
   "metadata": {},
   "outputs": [],
   "source": [
    "def offline(val, inv_num, sample):\n",
    "    \"\"\"\n",
    "    Offline Policy (Hindsight Benchmark)\n",
    "    :return: total valuation by offline policy\n",
    "    \"\"\"\n",
    "    total_val = 0\n",
    "    hind_demand = [0] * len(val)\n",
    "    for s in sample:\n",
    "        hind_demand[val.index(s)] += 1\n",
    "\n",
    "    for index in range(len(val)-1, -1, -1):\n",
    "        if hind_demand[index] <= inv_num:\n",
    "            total_val += hind_demand[index] * val[index]\n",
    "            inv_num -= hind_demand[index]\n",
    "        else:\n",
    "            total_val += inv_num * val[index]\n",
    "            inv_num = 0\n",
    "    return total_val"
   ]
  },
  {
   "cell_type": "markdown",
   "id": "e3f80f8c",
   "metadata": {},
   "source": [
    "\n",
    "\\\n",
    "\\\\\n",
    "\\\\\n",
    "\\\n",
    "\\\n",
    "\\\n",
    "\\\n",
    "\n",
    "\n",
    "\n",
    "\n",
    "\n",
    "\n",
    "\n"
   ]
  },
  {
   "cell_type": "code",
   "execution_count": 34,
   "id": "5ef9be25",
   "metadata": {},
   "outputs": [],
   "source": [
    "def adversarial_sample_arrival(T, types, p, n_samples, adversary_power, past_decisions):\n",
    "    J = np.zeros((T+1, n_samples))\n",
    "    \n",
    "    for s in range(n_samples):\n",
    "        for t in range(1, T+1):\n",
    "            if t in adversary_power:\n",
    "                # Here we assume the adversary doubles the likelihood of the least rewarding task.\n",
    "                # This is a basic model; you can make it as complex as needed.\n",
    "                least_rewarding_task = np.argmin(r)\n",
    "                modified_p = np.copy(p)\n",
    "                modified_p[least_rewarding_task] *= 2\n",
    "                modified_p /= np.sum(modified_p)  # Normalize to ensure it's a valid probability distribution\n",
    "                J[t,s] = np.random.choice(types, p=modified_p)\n",
    "            else:\n",
    "                J[t,s] = np.random.choice(types, p=p)\n",
    "    \n",
    "    return J"
   ]
  },
  {
   "cell_type": "code",
   "execution_count": 35,
   "id": "2c726b76",
   "metadata": {},
   "outputs": [],
   "source": [
    "\n",
    "adversary_power = [10, 20, 30]  # Example: Adversary influences the 10th, 20th, and 30th periods\n",
    "past_decisions = []  # This can be used if the adversary's decisions depend on your past actions.\n",
    "J_adversarial = adversarial_sample_arrival(T, types, p, n_samples, adversary_power, past_decisions)"
   ]
  },
  {
   "cell_type": "code",
   "execution_count": 36,
   "id": "4f417402",
   "metadata": {},
   "outputs": [
    {
     "data": {
      "text/plain": [
       "array([[0., 0., 0., ..., 0., 0., 0.],\n",
       "       [5., 1., 3., ..., 2., 0., 2.],\n",
       "       [1., 0., 2., ..., 2., 3., 3.],\n",
       "       ...,\n",
       "       [1., 1., 0., ..., 1., 3., 5.],\n",
       "       [3., 1., 0., ..., 3., 0., 0.],\n",
       "       [2., 2., 0., ..., 0., 5., 2.]])"
      ]
     },
     "execution_count": 36,
     "metadata": {},
     "output_type": "execute_result"
    }
   ],
   "source": [
    "J_adversarial"
   ]
  }
 ],
 "metadata": {
  "kernelspec": {
   "display_name": "Python 3",
   "language": "python",
   "name": "python3"
  },
  "language_info": {
   "codemirror_mode": {
    "name": "ipython",
    "version": 3
   },
   "file_extension": ".py",
   "mimetype": "text/x-python",
   "name": "python",
   "nbconvert_exporter": "python",
   "pygments_lexer": "ipython3",
   "version": "3.8.8"
  }
 },
 "nbformat": 4,
 "nbformat_minor": 5
}
